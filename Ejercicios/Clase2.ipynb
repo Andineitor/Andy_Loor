{
 "cells": [
  {
   "cell_type": "code",
   "execution_count": 1,
   "id": "b079c774",
   "metadata": {},
   "outputs": [
    {
     "data": {
      "text/plain": [
       "True"
      ]
     },
     "execution_count": 1,
     "metadata": {},
     "output_type": "execute_result"
    }
   ],
   "source": [
    "True and True"
   ]
  },
  {
   "cell_type": "code",
   "execution_count": 2,
   "id": "b227a4d4",
   "metadata": {},
   "outputs": [
    {
     "data": {
      "text/plain": [
       "False"
      ]
     },
     "execution_count": 2,
     "metadata": {},
     "output_type": "execute_result"
    }
   ],
   "source": [
    "True and False"
   ]
  },
  {
   "cell_type": "code",
   "execution_count": 3,
   "id": "cd13f2bb",
   "metadata": {},
   "outputs": [
    {
     "data": {
      "text/plain": [
       "False"
      ]
     },
     "execution_count": 3,
     "metadata": {},
     "output_type": "execute_result"
    }
   ],
   "source": [
    "False and True"
   ]
  },
  {
   "cell_type": "code",
   "execution_count": 4,
   "id": "eeeae244",
   "metadata": {},
   "outputs": [
    {
     "data": {
      "text/plain": [
       "False"
      ]
     },
     "execution_count": 4,
     "metadata": {},
     "output_type": "execute_result"
    }
   ],
   "source": [
    "False and False"
   ]
  },
  {
   "cell_type": "code",
   "execution_count": 5,
   "id": "2cc322e6",
   "metadata": {},
   "outputs": [
    {
     "data": {
      "text/plain": [
       "True"
      ]
     },
     "execution_count": 5,
     "metadata": {},
     "output_type": "execute_result"
    }
   ],
   "source": [
    "3>2"
   ]
  },
  {
   "cell_type": "code",
   "execution_count": 6,
   "id": "f4527541",
   "metadata": {},
   "outputs": [
    {
     "data": {
      "text/plain": [
       "False"
      ]
     },
     "execution_count": 6,
     "metadata": {},
     "output_type": "execute_result"
    }
   ],
   "source": [
    "3<2"
   ]
  },
  {
   "cell_type": "code",
   "execution_count": 8,
   "id": "bd4bf7c9",
   "metadata": {},
   "outputs": [
    {
     "data": {
      "text/plain": [
       "False"
      ]
     },
     "execution_count": 8,
     "metadata": {},
     "output_type": "execute_result"
    }
   ],
   "source": [
    "p=True\n",
    "q=False\n",
    "\n",
    "p and q\n",
    "q and p"
   ]
  },
  {
   "cell_type": "code",
   "execution_count": 9,
   "id": "ef75e9d0",
   "metadata": {},
   "outputs": [
    {
     "data": {
      "text/plain": [
       "True"
      ]
     },
     "execution_count": 9,
     "metadata": {},
     "output_type": "execute_result"
    }
   ],
   "source": [
    "p=True\n",
    "q=True\n",
    "p or q\n"
   ]
  },
  {
   "cell_type": "code",
   "execution_count": 10,
   "id": "529d6f7f",
   "metadata": {},
   "outputs": [
    {
     "data": {
      "text/plain": [
       "True"
      ]
     },
     "execution_count": 10,
     "metadata": {},
     "output_type": "execute_result"
    }
   ],
   "source": [
    "#tablas de verdad\n",
    "p=False\n",
    "q=True\n",
    "p or q"
   ]
  },
  {
   "cell_type": "code",
   "execution_count": 11,
   "id": "bb83a021",
   "metadata": {},
   "outputs": [
    {
     "data": {
      "text/plain": [
       "True"
      ]
     },
     "execution_count": 11,
     "metadata": {},
     "output_type": "execute_result"
    }
   ],
   "source": [
    "#tabla1\n",
    "p= True\n",
    "q=True\n",
    "p and q"
   ]
  },
  {
   "cell_type": "code",
   "execution_count": 12,
   "id": "c0fb07c9",
   "metadata": {},
   "outputs": [
    {
     "data": {
      "text/plain": [
       "False"
      ]
     },
     "execution_count": 12,
     "metadata": {},
     "output_type": "execute_result"
    }
   ],
   "source": [
    "p= True\n",
    "q=False\n",
    "p and q"
   ]
  },
  {
   "cell_type": "code",
   "execution_count": 13,
   "id": "bc252f6c",
   "metadata": {},
   "outputs": [
    {
     "data": {
      "text/plain": [
       "False"
      ]
     },
     "execution_count": 13,
     "metadata": {},
     "output_type": "execute_result"
    }
   ],
   "source": [
    "p=False\n",
    "q=True\n",
    "p and q"
   ]
  },
  {
   "cell_type": "code",
   "execution_count": 14,
   "id": "0e9a3329",
   "metadata": {},
   "outputs": [
    {
     "data": {
      "text/plain": [
       "False"
      ]
     },
     "execution_count": 14,
     "metadata": {},
     "output_type": "execute_result"
    }
   ],
   "source": [
    "p=False\n",
    "q=False\n",
    "p and q"
   ]
  },
  {
   "cell_type": "code",
   "execution_count": 16,
   "id": "02368d9a",
   "metadata": {},
   "outputs": [
    {
     "data": {
      "text/plain": [
       "False"
      ]
     },
     "execution_count": 16,
     "metadata": {},
     "output_type": "execute_result"
    }
   ],
   "source": [
    "#tabla2\n",
    "p= True\n",
    "q=True\n",
    "(p and q)&(p and not q)"
   ]
  },
  {
   "cell_type": "code",
   "execution_count": 17,
   "id": "0190169c",
   "metadata": {},
   "outputs": [
    {
     "data": {
      "text/plain": [
       "False"
      ]
     },
     "execution_count": 17,
     "metadata": {},
     "output_type": "execute_result"
    }
   ],
   "source": [
    "p= True\n",
    "q=False\n",
    "(p and q)&(p and not q)"
   ]
  },
  {
   "cell_type": "code",
   "execution_count": 18,
   "id": "2808a47c",
   "metadata": {},
   "outputs": [
    {
     "data": {
      "text/plain": [
       "False"
      ]
     },
     "execution_count": 18,
     "metadata": {},
     "output_type": "execute_result"
    }
   ],
   "source": [
    "p=False\n",
    "q=True\n",
    "(p and q)&(p and not q)"
   ]
  },
  {
   "cell_type": "code",
   "execution_count": 19,
   "id": "bce54a47",
   "metadata": {},
   "outputs": [
    {
     "data": {
      "text/plain": [
       "False"
      ]
     },
     "execution_count": 19,
     "metadata": {},
     "output_type": "execute_result"
    }
   ],
   "source": [
    "p=False\n",
    "q=False\n",
    "(p and q)&(p and not q)"
   ]
  },
  {
   "cell_type": "code",
   "execution_count": 20,
   "id": "616d511f",
   "metadata": {},
   "outputs": [
    {
     "data": {
      "text/plain": [
       "True"
      ]
     },
     "execution_count": 20,
     "metadata": {},
     "output_type": "execute_result"
    }
   ],
   "source": [
    "#Tabla3\n",
    "\n",
    "p=True\n",
    "q=True\n",
    "r=True\n",
    "p or (q and r)"
   ]
  },
  {
   "cell_type": "code",
   "execution_count": 22,
   "id": "c3c0d308",
   "metadata": {},
   "outputs": [
    {
     "data": {
      "text/plain": [
       "True"
      ]
     },
     "execution_count": 22,
     "metadata": {},
     "output_type": "execute_result"
    }
   ],
   "source": [
    "p=True\n",
    "q=True\n",
    "r=False\n",
    "p or (q and r)"
   ]
  },
  {
   "cell_type": "code",
   "execution_count": 23,
   "id": "e645efbf",
   "metadata": {},
   "outputs": [
    {
     "data": {
      "text/plain": [
       "True"
      ]
     },
     "execution_count": 23,
     "metadata": {},
     "output_type": "execute_result"
    }
   ],
   "source": [
    "p=True\n",
    "q=False\n",
    "r=True\n",
    "p or(q and r)"
   ]
  },
  {
   "cell_type": "code",
   "execution_count": 24,
   "id": "f6a70603",
   "metadata": {},
   "outputs": [
    {
     "data": {
      "text/plain": [
       "True"
      ]
     },
     "execution_count": 24,
     "metadata": {},
     "output_type": "execute_result"
    }
   ],
   "source": [
    "p=True\n",
    "q=False\n",
    "r=False\n",
    "p or(q and r)"
   ]
  },
  {
   "cell_type": "code",
   "execution_count": 25,
   "id": "55fd046a",
   "metadata": {},
   "outputs": [
    {
     "data": {
      "text/plain": [
       "True"
      ]
     },
     "execution_count": 25,
     "metadata": {},
     "output_type": "execute_result"
    }
   ],
   "source": [
    "p=False\n",
    "q=True\n",
    "r=True\n",
    "p or(q and r)"
   ]
  },
  {
   "cell_type": "code",
   "execution_count": 26,
   "id": "ac4cde3c",
   "metadata": {},
   "outputs": [
    {
     "data": {
      "text/plain": [
       "False"
      ]
     },
     "execution_count": 26,
     "metadata": {},
     "output_type": "execute_result"
    }
   ],
   "source": [
    "p=False\n",
    "q=True\n",
    "r=False\n",
    "p or(q and r)"
   ]
  },
  {
   "cell_type": "code",
   "execution_count": 28,
   "id": "afbe5135",
   "metadata": {},
   "outputs": [
    {
     "data": {
      "text/plain": [
       "True"
      ]
     },
     "execution_count": 28,
     "metadata": {},
     "output_type": "execute_result"
    }
   ],
   "source": [
    "p=False\n",
    "q=False\n",
    "r=True\n",
    "p or(q or r)"
   ]
  },
  {
   "cell_type": "code",
   "execution_count": 31,
   "id": "e80b2554",
   "metadata": {},
   "outputs": [
    {
     "data": {
      "text/plain": [
       "True"
      ]
     },
     "execution_count": 31,
     "metadata": {},
     "output_type": "execute_result"
    }
   ],
   "source": [
    "p=False\n",
    "q=False\n",
    "r=False\n",
    "p or(q or not r)"
   ]
  },
  {
   "cell_type": "code",
   "execution_count": 33,
   "id": "468c3744",
   "metadata": {},
   "outputs": [
    {
     "name": "stdout",
     "output_type": "stream",
     "text": [
      "Ingresa una cadena de texto: Hola mundo\n",
      "La cadena que ingreso es:  Hola mundo\n"
     ]
    },
    {
     "data": {
      "text/plain": [
       "str"
      ]
     },
     "execution_count": 33,
     "metadata": {},
     "output_type": "execute_result"
    }
   ],
   "source": [
    "cadena=input(\"Ingresa una cadena de texto: \")\n",
    "print(\"La cadena que ingreso es:\\n \",cadena)\n",
    "type(cadena)"
   ]
  },
  {
   "cell_type": "code",
   "execution_count": 35,
   "id": "4e5d6cf4",
   "metadata": {},
   "outputs": [
    {
     "name": "stdout",
     "output_type": "stream",
     "text": [
      "Introduce un numero: 3\n",
      "El valor ingresado es:\n",
      "  3\n"
     ]
    },
    {
     "data": {
      "text/plain": [
       "int"
      ]
     },
     "execution_count": 35,
     "metadata": {},
     "output_type": "execute_result"
    }
   ],
   "source": [
    "numero=int(input(\"Introduce un numero: \"))\n",
    "print(\"El valor ingresado es:\\n \",numero)\n",
    "type(numero)"
   ]
  },
  {
   "cell_type": "code",
   "execution_count": 45,
   "id": "64de7cae",
   "metadata": {},
   "outputs": [
    {
     "name": "stdout",
     "output_type": "stream",
     "text": [
      "Ingrese su peso en kilogramos: 85\n",
      "Ingrese su estatura en centimetros: 1.70\n",
      "El imc de la persona es:  29.41\n"
     ]
    }
   ],
   "source": [
    "peso=float(input(\"Ingrese su peso en kilogramos: \"))\n",
    "altura= float(input(\"Ingrese su estatura en metros: \"))\n",
    "\n",
    "resultado= (peso/(altura*altura))\n",
    "imc=round(resultado,2)\n",
    "print(\"El imc de la persona es: \", imc)\n"
   ]
  },
  {
   "cell_type": "markdown",
   "id": "1fd1d4ae",
   "metadata": {},
   "source": [
    "# String"
   ]
  },
  {
   "cell_type": "code",
   "execution_count": 48,
   "id": "244e715b",
   "metadata": {},
   "outputs": [
    {
     "data": {
      "text/plain": [
       "3"
      ]
     },
     "execution_count": 48,
     "metadata": {},
     "output_type": "execute_result"
    }
   ],
   "source": [
    "palabra=\"Hola buenos dias\"\n",
    "palabra.count(\"buenos\")#cuantas veces se repite la palabra\n",
    "palabra.find(\"a\")#Ubicacion de la letra en el arreglo"
   ]
  },
  {
   "cell_type": "code",
   "execution_count": 51,
   "id": "9bb193d8",
   "metadata": {},
   "outputs": [
    {
     "data": {
      "text/plain": [
       "False"
      ]
     },
     "execution_count": 51,
     "metadata": {},
     "output_type": "execute_result"
    }
   ],
   "source": [
    "palabra=\"Hola mundo\"\n",
    "palabra.startswith(\"Hola\")#Nos ayuda a verificar si la plabra se encuentra en la cadena de texto con un booleano"
   ]
  },
  {
   "cell_type": "code",
   "execution_count": 57,
   "id": "bf3f91e9",
   "metadata": {},
   "outputs": [
    {
     "data": {
      "text/plain": [
       "'Hola mundo'"
      ]
     },
     "execution_count": 57,
     "metadata": {},
     "output_type": "execute_result"
    }
   ],
   "source": [
    "palabra=\"hola mundo\"\n",
    "palabra.capitalize()"
   ]
  },
  {
   "cell_type": "code",
   "execution_count": 58,
   "id": "7904e3a8",
   "metadata": {},
   "outputs": [
    {
     "data": {
      "text/plain": [
       "'hola mundo'"
      ]
     },
     "execution_count": 58,
     "metadata": {},
     "output_type": "execute_result"
    }
   ],
   "source": [
    "palabra=\"Hola mundo\"\n",
    "palabra.casefold()"
   ]
  },
  {
   "cell_type": "code",
   "execution_count": 61,
   "id": "567a5a00",
   "metadata": {},
   "outputs": [
    {
     "data": {
      "text/plain": [
       "'thon'"
      ]
     },
     "execution_count": 61,
     "metadata": {},
     "output_type": "execute_result"
    }
   ],
   "source": [
    "palabra=  \"Python\"\n",
    "palabra[:2]#caracteres desde el principio hasta la posicion 2(Excluida)\n",
    "palabra[4:]#caracteres desde la posicion 4(incluida hasta el final)\n",
    "palabra[-4:]#caracteres desde la posicion -4  (incluida hasta el final)\n",
    "#Las cadenas de Python no pueden ser modificadas*SON INMUTABLES*\n"
   ]
  },
  {
   "cell_type": "code",
   "execution_count": 62,
   "id": "78429d5b",
   "metadata": {},
   "outputs": [
    {
     "data": {
      "text/plain": [
       "['Carlos', 'Cristina', 'Rodrigo', 'Hugo']"
      ]
     },
     "execution_count": 62,
     "metadata": {},
     "output_type": "execute_result"
    }
   ],
   "source": [
    "nombres = \"Carlos|Cristina|Rodrigo|Hugo\"\n",
    "nombres.split(\"|\")"
   ]
  },
  {
   "cell_type": "code",
   "execution_count": 66,
   "id": "39c2a41a",
   "metadata": {},
   "outputs": [
    {
     "name": "stdout",
     "output_type": "stream",
     "text": [
      "Monse <3 Ismael\n"
     ]
    }
   ],
   "source": [
    "caracter= \" <3 \"\n",
    "nombres2=['Monse',\"Ismael\"]\n",
    "print(caracter.join(nombres2))"
   ]
  },
  {
   "cell_type": "code",
   "execution_count": 69,
   "id": "9c622bd8",
   "metadata": {},
   "outputs": [
    {
     "name": "stdout",
     "output_type": "stream",
     "text": [
      "[1, 4, 9, 16, 25]\n"
     ]
    },
    {
     "data": {
      "text/plain": [
       "9"
      ]
     },
     "execution_count": 69,
     "metadata": {},
     "output_type": "execute_result"
    }
   ],
   "source": [
    "cuadrados= [1,4,9,16,25]\n",
    "print(cuadrados)\n",
    "cuadrados[-2]# imprime la segunda posicion en forma inversa(empieza en 1)\n",
    "cuadrados[2]#imprime la segunda posicion de izquierda a derecha(Empieza en Cero)\n"
   ]
  },
  {
   "cell_type": "code",
   "execution_count": null,
   "id": "7d609a54",
   "metadata": {
    "collapsed": true
   },
   "outputs": [],
   "source": []
  },
  {
   "cell_type": "markdown",
   "id": "170cfbd2",
   "metadata": {},
   "source": [
    "# Listas"
   ]
  },
  {
   "cell_type": "code",
   "execution_count": 70,
   "id": "b282b9df",
   "metadata": {},
   "outputs": [
    {
     "name": "stdout",
     "output_type": "stream",
     "text": [
      "[1, 8, 27, 64, 125]\n"
     ]
    }
   ],
   "source": [
    "cubos=[1,8,27,65,125] #el valor 65 esta mal\n",
    "4**3 # el cubo de 4 es 64 no 65\n",
    "cubos[-2]=64#remplazamos el valor 64 que es correcto\n",
    "print(cubos)\n"
   ]
  },
  {
   "cell_type": "code",
   "execution_count": 74,
   "id": "8a8cfa4e",
   "metadata": {},
   "outputs": [
    {
     "name": "stdout",
     "output_type": "stream",
     "text": [
      "['Messi', 'Neymar', 'Keylor', 'Thiago Silva', 'Plata', 'Vinicius', 'Caicedo']\n"
     ]
    }
   ],
   "source": [
    "#Jugadores de Fútbol\n",
    "sudamerica=[\"Messi\",\"Neymar\",\"Keylor\",\"Lewandowski\", \"Plata\", \"Vinicius\",\"Pogba\"]\n",
    "#Lewandowski y Pogba son jugadores europeos\n",
    "sudamerica[3]= \"Thiago Silva\"\n",
    "sudamerica [-1]= \"Caicedo\"\n",
    "print (sudamerica)"
   ]
  },
  {
   "cell_type": "code",
   "execution_count": 79,
   "id": "f5c23070",
   "metadata": {},
   "outputs": [
    {
     "data": {
      "text/plain": [
       "[2, 4, 6]"
      ]
     },
     "execution_count": 79,
     "metadata": {},
     "output_type": "execute_result"
    }
   ],
   "source": [
    "a=[1,2,3]\n",
    "b=[1,2,3]\n",
    "c=[a[0]+b[0],a[1]+b[1],a[2]+b[2]]\n",
    "c"
   ]
  },
  {
   "cell_type": "code",
   "execution_count": 21,
   "id": "23a58d72",
   "metadata": {},
   "outputs": [
    {
     "data": {
      "text/plain": [
       "3"
      ]
     },
     "execution_count": 21,
     "metadata": {},
     "output_type": "execute_result"
    }
   ],
   "source": [
    "#anidar listas\n",
    "a=[\"a\",\"b\",\"c\"]\n",
    "b=[1,2,3]\n",
    "x=[a,b]\n",
    "x\n",
    "x[-1]\n",
    "x[1][-1]#nos imprime el caracter de acuerdo a la cordenada(primer elemento es el arreglo deseado y el segundo la ubicacion del carcter)\n"
   ]
  },
  {
   "cell_type": "code",
   "execution_count": 36,
   "id": "21ac1ea1",
   "metadata": {},
   "outputs": [
    {
     "data": {
      "text/plain": [
       "'Volkswagen'"
      ]
     },
     "execution_count": 36,
     "metadata": {},
     "output_type": "execute_result"
    }
   ],
   "source": [
    "#ejercicio Matriz 3x3\n",
    "a=[1,2,3]\n",
    "b=[\"Ismael\",\"ing Andy\",\"Joss\"]\n",
    "c=[\"Volkswagen\",\"BMW\",\"Mercedes\"]\n",
    "\n",
    "r=[a,b,c]\n",
    "r[2][0]\n",
    "#suma y multiplicacion de dos matrices(con datos ingresados por el usuario)\n"
   ]
  },
  {
   "cell_type": "code",
   "execution_count": 99,
   "id": "fd0e3e6b",
   "metadata": {},
   "outputs": [
    {
     "name": "stdout",
     "output_type": "stream",
     "text": [
      "gato 4\n",
      "Ventana 7\n",
      "Perro 5\n"
     ]
    }
   ],
   "source": [
    "palabras=[\"gato\",\"Ventana\",\"Perro\"]\n",
    "for p in palabras:\n",
    "    print(p,len(p))"
   ]
  },
  {
   "cell_type": "code",
   "execution_count": 37,
   "id": "0d6760b7",
   "metadata": {},
   "outputs": [
    {
     "data": {
      "text/plain": [
       "1"
      ]
     },
     "execution_count": 37,
     "metadata": {},
     "output_type": "execute_result"
    }
   ],
   "source": [
    "a= [\"colegio\", \"universidad\", \"escuela\"]\n",
    "\n",
    "b=[1,3,4]\n",
    "\n",
    "c=[a,b]\n",
    "\n",
    "c[-1][0]\n"
   ]
  },
  {
   "cell_type": "code",
   "execution_count": null,
   "id": "e3bc02e8",
   "metadata": {},
   "outputs": [],
   "source": []
  }
 ],
 "metadata": {
  "kernelspec": {
   "display_name": "Python 3 (ipykernel)",
   "language": "python",
   "name": "python3"
  },
  "language_info": {
   "codemirror_mode": {
    "name": "ipython",
    "version": 3
   },
   "file_extension": ".py",
   "mimetype": "text/x-python",
   "name": "python",
   "nbconvert_exporter": "python",
   "pygments_lexer": "ipython3",
   "version": "3.9.12"
  }
 },
 "nbformat": 4,
 "nbformat_minor": 5
}
