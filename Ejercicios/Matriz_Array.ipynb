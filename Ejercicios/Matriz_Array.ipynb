{
 "cells": [
  {
   "cell_type": "code",
   "execution_count": 2,
   "id": "82250395",
   "metadata": {},
   "outputs": [
    {
     "name": "stdout",
     "output_type": "stream",
     "text": [
      "['gorra', 'camisa', 'buso']\n",
      "[1, 4, 7]\n",
      "['corazon', 'pulmon', 'higado']\n"
     ]
    }
   ],
   "source": [
    "matriz=[[\"gorra\", \"camisa\",\"buso\"],[1,4,7],[\"corazon\", \"pulmon\",\"higado\"]]\n",
    "for dato in matriz:\n",
    "    print (dato)"
   ]
  },
  {
   "cell_type": "code",
   "execution_count": null,
   "id": "d062a563",
   "metadata": {},
   "outputs": [],
   "source": [
    "conjunt=[\"manzana\", \"naranja\", \"pera\", \"manzana\", \"banana\"]\n"
   ]
  },
  {
   "cell_type": "markdown",
   "id": "d39d7a2a",
   "metadata": {},
   "source": [
    "# diccionarios\n"
   ]
  },
  {
   "cell_type": "code",
   "execution_count": 15,
   "id": "17e7c06e",
   "metadata": {},
   "outputs": [
    {
     "data": {
      "text/plain": [
       "['Luis', 'Pedro', 'maria', 'oscar']"
      ]
     },
     "execution_count": 15,
     "metadata": {},
     "output_type": "execute_result"
    }
   ],
   "source": [
    "tel={'Pedro':4098,'Luis':4139, 'oscar':1234, 'maria':4321}\n",
    "tel['maria']\n",
    "sorted(tel.keys())"
   ]
  },
  {
   "cell_type": "code",
   "execution_count": 20,
   "id": "f4dce959",
   "metadata": {},
   "outputs": [
    {
     "data": {
      "text/plain": [
       "'Andy'"
      ]
     },
     "execution_count": 20,
     "metadata": {},
     "output_type": "execute_result"
    }
   ],
   "source": [
    "person = {}\n",
    "type(person)\n",
    "\n",
    "person['fname'] = 'Andy'\n",
    "person['lname'] = 'Loor'\n",
    "person['age'] = 22\n",
    "person['spouse'] = 'andineitor'\n",
    "person['children'] = ['isamel', 'joselyn', 'kewin']\n",
    "person['pets'] = {'dog': 'Fido', 'cat': 'Sox'}\n",
    "\n",
    "person['fname']\n"
   ]
  },
  {
   "cell_type": "code",
   "execution_count": 21,
   "id": "c944141f",
   "metadata": {},
   "outputs": [
    {
     "ename": "SyntaxError",
     "evalue": "invalid syntax (2723639217.py, line 2)",
     "output_type": "error",
     "traceback": [
      "\u001b[1;36m  Cell \u001b[1;32mIn [21], line 2\u001b[1;36m\u001b[0m\n\u001b[1;33m    name_complet= nombre apellido\u001b[0m\n\u001b[1;37m                         ^\u001b[0m\n\u001b[1;31mSyntaxError\u001b[0m\u001b[1;31m:\u001b[0m invalid syntax\n"
     ]
    }
   ],
   "source": [
    "def mi_funcion(nom, ape):\n",
    "    name_complet= nombre apellido\n",
    "    print(name_complet)\n",
    "    \n",
    "    "
   ]
  },
  {
   "cell_type": "code",
   "execution_count": 22,
   "id": "148f2f54",
   "metadata": {},
   "outputs": [
    {
     "name": "stdout",
     "output_type": "stream",
     "text": [
      "Cual es su peso kg:40\n",
      "Cuanto mide m:1.60\n",
      "15.62\n"
     ]
    }
   ],
   "source": [
    "def funcion():\n",
    "    kg= float(input(\"Cual es su peso kg:\"))\n",
    "    altura= float(input(\"Cuanto mide m:\"))\n",
    "    imc = round(kg/(altura * altura),2)\n",
    "    print(imc)\n",
    "funcion()"
   ]
  },
  {
   "cell_type": "code",
   "execution_count": 89,
   "id": "9a4462da",
   "metadata": {},
   "outputs": [],
   "source": [
    "def propina():\n",
    "    pagar=float(input(\"ingrese subtotal a pagar\"))\n",
    "    iva=pagar*0.12\n",
    "    propina=pagar*0.1\n",
    "    total=pagar+iva+propina\n",
    "    print('el subtotal es',str(pagar),'\\n el iva a pagar',str(iva),'\\n propina a pagar',str(propina),'\\n total a pagar',str(total))\n",
    "    return('el subtotal es',str(pagar),'\\n el iva a pagar',str(iva),'\\n propina a pagar',str(propina),'\\n total a pagar',str(total))\n"
   ]
  },
  {
   "cell_type": "code",
   "execution_count": 86,
   "id": "041598e1",
   "metadata": {},
   "outputs": [
    {
     "name": "stdout",
     "output_type": "stream",
     "text": [
      "ingrese subtotal a pagar100\n",
      "el subtotal es 100.0 \n",
      " el iva a pagar 12.0 \n",
      " propina a pagar 10.0 \n",
      " total a pagar 122.0\n"
     ]
    }
   ],
   "source": [
    "propina()"
   ]
  },
  {
   "cell_type": "markdown",
   "id": "ecf05750",
   "metadata": {},
   "source": [
    "# archivos"
   ]
  },
  {
   "cell_type": "code",
   "execution_count": 68,
   "id": "6318091e",
   "metadata": {},
   "outputs": [],
   "source": [
    "def creatxt():\n",
    "    arch=open(\"datos.txt\", \"w\")\n",
    "    arch.close()\n",
    "creatxt()"
   ]
  },
  {
   "cell_type": "code",
   "execution_count": 80,
   "id": "16537164",
   "metadata": {},
   "outputs": [],
   "source": [
    "def grabatxt():\n",
    "    arch=open(\"datos.txt\", \"a\")\n",
    "    arch.write('linea 1\\n')\n",
    "    arch.write('linea 2\\n')\n",
    "    arch.write('linea 3\\n')\n",
    "    arch.write('linea 4\\n')\n",
    "    arch.close\n",
    "grabatxt()"
   ]
  },
  {
   "cell_type": "code",
   "execution_count": 91,
   "id": "070ec0ae",
   "metadata": {},
   "outputs": [
    {
     "name": "stdout",
     "output_type": "stream",
     "text": [
      "ingrese subtotal a pagar100\n",
      "el subtotal es 100.0 \n",
      " el iva a pagar 12.0 \n",
      " propina a pagar 10.0 \n",
      " total a pagar 122.0\n"
     ]
    }
   ],
   "source": [
    "def factura():\n",
    "    arch=open(\"fact.txt\", \"w\")\n",
    "    arch.close()\n",
    "def facingresar():\n",
    "    arch=open(\"fact.txt\", \"w\")\n",
    "    arch.write(str(propina()))\n",
    "    arch.close()\n",
    "facingresar()\n"
   ]
  },
  {
   "cell_type": "code",
   "execution_count": 92,
   "id": "0dedcd7a",
   "metadata": {},
   "outputs": [
    {
     "name": "stdout",
     "output_type": "stream",
     "text": [
      "('el subtotal es', '100.0', '\\n el iva a pagar', '12.0', '\\n propina a pagar', '10.0', '\\n total a pagar', '122.0')\n"
     ]
    }
   ],
   "source": [
    "def leerfac():\n",
    "    arch=open(\"fact.txt\", \"r\")\n",
    "    leer=arch.readline()\n",
    "    while leer!=\"\":\n",
    "        print(leer)\n",
    "        leer=arch.readline()\n",
    "        arch.close()\n",
    "leerfac()\n",
    "    "
   ]
  },
  {
   "cell_type": "code",
   "execution_count": 3,
   "id": "30c43b32",
   "metadata": {},
   "outputs": [
    {
     "data": {
      "text/plain": [
       "['yo', 'soy', 'el', 'mas', 'querido']"
      ]
     },
     "execution_count": 3,
     "metadata": {},
     "output_type": "execute_result"
    }
   ],
   "source": [
    "cadena=\"yo soy el mas querido\"\n",
    "cadenita=cadena.split()\n",
    "cadenita"
   ]
  },
  {
   "cell_type": "code",
   "execution_count": 4,
   "id": "49c31569",
   "metadata": {},
   "outputs": [
    {
     "data": {
      "text/plain": [
       "[2, 3, 4, 2, 3, 2, 4, 2, 1, 4, 1, 1, 2, 4, 1, 1, 2, 1, 1, 1, 3]"
      ]
     },
     "execution_count": 4,
     "metadata": {},
     "output_type": "execute_result"
    }
   ],
   "source": [
    "frecuenciaPalabra=[]\n",
    "for w in cadena:\n",
    "    frecuenciaPalabra.append(cadena.count(w))\n",
    "frecuenciaPalabra"
   ]
  },
  {
   "cell_type": "code",
   "execution_count": 5,
   "id": "aa07b9b2",
   "metadata": {},
   "outputs": [
    {
     "name": "stdout",
     "output_type": "stream",
     "text": [
      "Cadena\n",
      "yo soy el mas querido\n"
     ]
    }
   ],
   "source": [
    "print(\"Cadena\\n\"+ cadena)"
   ]
  },
  {
   "cell_type": "code",
   "execution_count": 6,
   "id": "ec14d586",
   "metadata": {},
   "outputs": [
    {
     "name": "stdout",
     "output_type": "stream",
     "text": [
      "lista\n",
      "['yo', 'soy', 'el', 'mas', 'querido']\n"
     ]
    }
   ],
   "source": [
    "print(\"lista\\n\"+ str(cadenita))"
   ]
  },
  {
   "cell_type": "code",
   "execution_count": 9,
   "id": "1a696fdc",
   "metadata": {},
   "outputs": [
    {
     "name": "stdout",
     "output_type": "stream",
     "text": [
      "frecuenciaa[2, 3, 4, 2, 3, 2, 4, 2, 1, 4, 1, 1, 2, 4, 1, 1, 2, 1, 1, 1, 3]\n"
     ]
    }
   ],
   "source": [
    "print(\"frecuenciaa\"+str(frecuenciaPalabra))"
   ]
  },
  {
   "cell_type": "code",
   "execution_count": 10,
   "id": "d55c85f9",
   "metadata": {},
   "outputs": [
    {
     "name": "stdout",
     "output_type": "stream",
     "text": [
      "pares[('yo', 2), ('soy', 3), ('el', 4), ('mas', 2), ('querido', 3)]\n"
     ]
    }
   ],
   "source": [
    "print(\"pares\"+str(list(zip(cadenita, frecuenciaPalabra))))"
   ]
  },
  {
   "cell_type": "code",
   "execution_count": null,
   "id": "2dc88e64",
   "metadata": {},
   "outputs": [],
   "source": []
  }
 ],
 "metadata": {
  "kernelspec": {
   "display_name": "Python 3 (ipykernel)",
   "language": "python",
   "name": "python3"
  },
  "language_info": {
   "codemirror_mode": {
    "name": "ipython",
    "version": 3
   },
   "file_extension": ".py",
   "mimetype": "text/x-python",
   "name": "python",
   "nbconvert_exporter": "python",
   "pygments_lexer": "ipython3",
   "version": "3.9.12"
  }
 },
 "nbformat": 4,
 "nbformat_minor": 5
}
